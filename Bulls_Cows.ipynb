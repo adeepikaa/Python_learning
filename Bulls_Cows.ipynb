{
 "cells": [
  {
   "cell_type": "code",
   "execution_count": 1,
   "metadata": {},
   "outputs": [
    {
     "name": "stdout",
     "output_type": "stream",
     "text": [
      "This is a game of Bulls and Cows\n",
      "The way to play it is: you have to guess the 4 digit number the program randomly chooses\n",
      "The number will not have repetitions\n",
      "When you a guess a 4 digit number the program will say x bulls for x number of digits in the right places and y cows for y number of digits in the wrong places\n",
      "Using this information guess the next number and keep going until you find the number\n",
      "Enter a 4 digit number: asdf\n",
      "You did not enter 4 digit number try again: as\n",
      "You did not enter 4 digit number try again: 1234\n",
      "Based on your entry you get 0 bulls and 1 cows\n",
      "Enter a 4 digit number: 4567\n",
      "Based on your entry you get 0 bulls and 1 cows\n",
      "Enter a 4 digit number: 6789\n",
      "Based on your entry you get 0 bulls and 2 cows\n",
      "Enter a 4 digit number: 5189\n",
      "Based on your entry you get 0 bulls and 1 cows\n",
      "Enter a 4 digit number: 2567\n",
      "Based on your entry you get 1 bulls and 1 cows\n",
      "Enter a 4 digit number: 6470\n",
      "Based on your entry you get 0 bulls and 2 cows\n",
      "Enter a 4 digit number: 7615\n",
      "Based on your entry you get 0 bulls and 1 cows\n",
      "Enter a 4 digit number: 6920\n",
      "Based on your entry you get 0 bulls and 4 cows\n",
      "Enter a 4 digit number: 9062\n",
      "Based on your entry you get 1 bulls and 3 cows\n",
      "Enter a 4 digit number: 2096\n",
      "Hurray!! You got it right! in 10 attemps\n"
     ]
    }
   ],
   "source": [
    "import random\n",
    "import string\n",
    "\n",
    "def game(fanswer):\n",
    "    cnt = 0\n",
    "    while 1:\n",
    "        entry = str(input(\"Enter a 4 digit number: \"))\n",
    "        cnt +=1\n",
    "        while 1:\n",
    "            if (len(entry)!=4):\n",
    "                entry = str(input(\"You did not enter 4 digit number try again: \"))       \n",
    "            elif entry.isdigit(): \n",
    "                break    \n",
    "            else :\n",
    "                entry = str(input(\"You did not enter 4 digit number try again: \"))       \n",
    "        bull = 0\n",
    "        cow = 0\n",
    "        if entry == fanswer:\n",
    "            print(\"Hurray!! You got it right! in {} attemps\".format(cnt))\n",
    "            break\n",
    "        for i in range(4):\n",
    "            if entry[i] == fanswer[i]:\n",
    "                bull += 1\n",
    "            elif entry[i] in fanswer:\n",
    "                cow += 1\n",
    "            else:\n",
    "                continue\n",
    "        print(\"Based on your entry you get {} bulls and {} cows\".format(bull, cow))\n",
    "\n",
    "\n",
    "\n",
    "print(\"This is a game of Bulls and Cows\")\n",
    "print(\"The way to play it is: you have to guess the 4 digit number the program randomly chooses\")\n",
    "print(\"The number will not have repetitions\")\n",
    "print(\"When you a guess a 4 digit number the program will say x bulls for x number of digits in the right places \"\n",
    "      \"and y cows for y number of digits in the wrong places\")\n",
    "print(\"Using this information guess the next number and keep going until you find the number\")\n",
    "\n",
    "\n",
    "answer = ''.join(random.sample(string.digits, 4))\n",
    "#print(answer)\n",
    "game(answer)\n"
   ]
  },
  {
   "cell_type": "code",
   "execution_count": null,
   "metadata": {},
   "outputs": [],
   "source": []
  }
 ],
 "metadata": {
  "kernelspec": {
   "display_name": "Python 3",
   "language": "python",
   "name": "python3"
  },
  "language_info": {
   "codemirror_mode": {
    "name": "ipython",
    "version": 3
   },
   "file_extension": ".py",
   "mimetype": "text/x-python",
   "name": "python",
   "nbconvert_exporter": "python",
   "pygments_lexer": "ipython3",
   "version": "3.7.6"
  }
 },
 "nbformat": 4,
 "nbformat_minor": 4
}
