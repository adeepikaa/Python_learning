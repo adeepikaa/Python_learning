{
 "cells": [
  {
   "cell_type": "code",
   "execution_count": 7,
   "metadata": {},
   "outputs": [
    {
     "name": "stdout",
     "output_type": "stream",
     "text": [
      "Enter an array of numbers in ascending order seprarated by commas: 2,4,56,67,78,1020\n",
      "2,4,56,67,78,1020\n",
      "['2', '4', '56', '67', '78', '1020']\n",
      "Enter a number to find in the list: 78\n",
      "Found number 78 in position 5\n"
     ]
    }
   ],
   "source": [
    "# This code is to do a Binary Search on an array to find the position of that number\n",
    "\n",
    "# read array of numbers comma separated\n",
    "arr_read=input(\"Enter an array of numbers in ascending order seprarated by commas: \")\n",
    "print(arr_read)\n",
    "\n",
    "#split with comma\n",
    "nlist=arr_read.split(',')\n",
    "print(nlist)\n",
    "\n",
    "# which number's position to find?\n",
    "number=input(\"Enter a number to find in the list: \")\n",
    "\n",
    "# enter defaults\n",
    "length=len(nlist)\n",
    "nstart=0\n",
    "nend=length\n",
    "cnt=0\n",
    "\n",
    "\n",
    "while 1:\n",
    "    check=nstart+(nend-nstart)//2\n",
    "    #print(\"interval is now {} and {} check= {}\".format(nstart, nend, check))\n",
    "    if nlist[check] == number:\n",
    "        print(\"Found number {} in position {}\".format(number, check+1))\n",
    "        #print(\"interval is now {} and {}\".format(nstart, nend))\n",
    "        break\n",
    "        \n",
    "    elif nlist[check] < number:\n",
    "        nstart=check\n",
    "        #print(\"interval is now {} and {}\".format(nstart, nend))\n",
    "\n",
    "        \n",
    "    else:\n",
    "        nend=check\n",
    "        #print(\"interval is now {} and {}\".format(nstart, nend))\n",
    "        \n",
    "\n"
   ]
  },
  {
   "cell_type": "code",
   "execution_count": null,
   "metadata": {},
   "outputs": [],
   "source": []
  },
  {
   "cell_type": "code",
   "execution_count": null,
   "metadata": {},
   "outputs": [],
   "source": []
  }
 ],
 "metadata": {
  "kernelspec": {
   "display_name": "Python 3",
   "language": "python",
   "name": "python3"
  },
  "language_info": {
   "codemirror_mode": {
    "name": "ipython",
    "version": 3
   },
   "file_extension": ".py",
   "mimetype": "text/x-python",
   "name": "python",
   "nbconvert_exporter": "python",
   "pygments_lexer": "ipython3",
   "version": "3.7.6"
  }
 },
 "nbformat": 4,
 "nbformat_minor": 4
}
